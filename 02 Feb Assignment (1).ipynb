{
 "cells": [
  {
   "cell_type": "code",
   "execution_count": 1,
   "id": "e0c46d7c-3ccd-48c8-9993-514fd874889c",
   "metadata": {},
   "outputs": [
    {
     "ename": "SyntaxError",
     "evalue": "unterminated string literal (detected at line 1) (3109406813.py, line 1)",
     "output_type": "error",
     "traceback": [
      "\u001b[0;36m  Cell \u001b[0;32mIn[1], line 1\u001b[0;36m\u001b[0m\n\u001b[0;31m    Q1 ans='\"The for loop is used when we already know the number of iterations,\u001b[0m\n\u001b[0m           ^\u001b[0m\n\u001b[0;31mSyntaxError\u001b[0m\u001b[0;31m:\u001b[0m unterminated string literal (detected at line 1)\n"
     ]
    }
   ],
   "source": [
    "Q1 ans='\"The for loop is used when we already know the number of iterations, \n",
    "which means when we know how many times a statement has to be executed, \n",
    "That is why we have to specify the ending point in the for loop initialization,\n",
    "When we need to end the loop on a condition other than the number of times, we use a while loop\"'"
   ]
  },
  {
   "cell_type": "code",
   "execution_count": 2,
   "id": "f23d251c-0ee1-443e-a7ac-6d6155436c46",
   "metadata": {},
   "outputs": [],
   "source": [
    "#Q2 Answers\n",
    "l=[1,2,3,4,5,6,7,8,9,10]"
   ]
  },
  {
   "cell_type": "code",
   "execution_count": 3,
   "id": "fd41832b-a81f-4e32-baca-ac0d8e2b2953",
   "metadata": {},
   "outputs": [
    {
     "name": "stdout",
     "output_type": "stream",
     "text": [
      "addition is: 55\n",
      "product is : 3628800\n"
     ]
    }
   ],
   "source": [
    "sum = 0\n",
    "product = 1\n",
    "for i in l :\n",
    "    sum = sum + i\n",
    "    product = product * i\n",
    "print('addition is:',sum)\n",
    "print('product is :',product)"
   ]
  },
  {
   "cell_type": "code",
   "execution_count": 4,
   "id": "7fa6712d-d376-4198-bdaf-568626255dd4",
   "metadata": {},
   "outputs": [
    {
     "name": "stdout",
     "output_type": "stream",
     "text": [
      "addition is: 55\n",
      "product is : 3628800\n"
     ]
    }
   ],
   "source": [
    "sum = 0\n",
    "product = 1\n",
    "for i in range(1,11):\n",
    "    sum = sum + i\n",
    "    product = product * i\n",
    "print('addition is:',sum)\n",
    "print('product is :',product)"
   ]
  },
  {
   "cell_type": "code",
   "execution_count": 1,
   "id": "e43e04ac-57e9-4baa-aad2-9b8b19c4fee1",
   "metadata": {},
   "outputs": [
    {
     "name": "stdout",
     "output_type": "stream",
     "text": [
      "addition is: 55\n",
      "product is : 3628800\n"
     ]
    }
   ],
   "source": [
    "sum = 0\n",
    "product = 1\n",
    "for i in range(1,11):\n",
    "    sum = sum + i\n",
    "    product = product * i\n",
    "print('addition is:',sum)\n",
    "print('product is :',product)"
   ]
  },
  {
   "cell_type": "code",
   "execution_count": 2,
   "id": "906526a1-e9e9-4eb0-82a5-fa41bf9d94fa",
   "metadata": {},
   "outputs": [
    {
     "name": "stdout",
     "output_type": "stream",
     "text": [
      "sum is: 55\n",
      "product is: 3628800\n"
     ]
    }
   ],
   "source": [
    "sum = 0\n",
    "product = 1\n",
    "i=1\n",
    "while i<=10 :\n",
    "    sum = sum + i\n",
    "    product = product * i\n",
    "    i = i+1\n",
    "print('sum is:',sum)\n",
    "print('product is:',product)"
   ]
  },
  {
   "cell_type": "code",
   "execution_count": 10,
   "id": "fd81a475-f41a-4ad1-a54a-c87b17f597d8",
   "metadata": {},
   "outputs": [
    {
     "name": "stdin",
     "output_type": "stream",
     "text": [
      "Enter your unit :  600\n"
     ]
    },
    {
     "name": "stdout",
     "output_type": "stream",
     "text": [
      " your electricity bill is : 12000\n"
     ]
    }
   ],
   "source": [
    "#Q3 calculate Electricity Bill\n",
    "unit = int(input('Enter your unit : '))\n",
    "if unit <= 100 :\n",
    "    print ( ' your electricity bill is :' , unit*4.5)\n",
    "elif unit > 100 and unit <= 200 :\n",
    "    print(' your electricity bill is :' , unit*6)\n",
    "elif unit > 200 and unit <= 300 :\n",
    "    print( 'your electricity bill is :' , unit*10)\n",
    "else :\n",
    "    print(' your electricity bill is :' , unit*20)"
   ]
  },
  {
   "cell_type": "code",
   "execution_count": 11,
   "id": "bb57f67b-e399-474e-a545-c690f27c7224",
   "metadata": {},
   "outputs": [
    {
     "name": "stdin",
     "output_type": "stream",
     "text": [
      "Enter your unit :  234\n"
     ]
    },
    {
     "name": "stdout",
     "output_type": "stream",
     "text": [
      "your electricity bill is : 2340\n"
     ]
    }
   ],
   "source": [
    "unit = int(input('Enter your unit : '))\n",
    "if unit <= 100 :\n",
    "    print ( ' your electricity bill is :' , unit*4.5)\n",
    "elif unit > 100 and unit <= 200 :\n",
    "    print(' your electricity bill is :' , unit*6)\n",
    "elif unit > 200 and unit <= 300 :\n",
    "    print( 'your electricity bill is :' , unit*10)\n",
    "else :\n",
    "    print(' your electricity bill is :' , unit*20)"
   ]
  },
  {
   "cell_type": "code",
   "execution_count": 12,
   "id": "98e99e65-3e53-464c-a5ca-fba6fe4dfd28",
   "metadata": {},
   "outputs": [
    {
     "name": "stdin",
     "output_type": "stream",
     "text": [
      "Enter your unit :  55\n"
     ]
    },
    {
     "name": "stdout",
     "output_type": "stream",
     "text": [
      " your electricity bill is : 247.5\n"
     ]
    }
   ],
   "source": [
    "unit = int(input('Enter your unit : '))\n",
    "if unit <= 100 :\n",
    "    print ( ' your electricity bill is :' , unit*4.5)\n",
    "elif unit > 100 and unit <= 200 :\n",
    "    print(' your electricity bill is :' , unit*6)\n",
    "elif unit > 200 and unit <= 300 :\n",
    "    print( 'your electricity bill is :' , unit*10)\n",
    "else :\n",
    "    print(' your electricity bill is :' , unit*20)"
   ]
  },
  {
   "cell_type": "code",
   "execution_count": 13,
   "id": "f9b03f73-405a-482f-b357-3b073ab96aa6",
   "metadata": {},
   "outputs": [
    {
     "name": "stdin",
     "output_type": "stream",
     "text": [
      "Enter your unit :  310\n"
     ]
    },
    {
     "name": "stdout",
     "output_type": "stream",
     "text": [
      " your electricity bill is : 6200\n"
     ]
    }
   ],
   "source": [
    "unit = int(input('Enter your unit : '))\n",
    "if unit <= 100 :\n",
    "    print ( ' your electricity bill is :' , unit*4.5)\n",
    "elif unit > 100 and unit <= 200 :\n",
    "    print(' your electricity bill is :' , unit*6)\n",
    "elif unit > 200 and unit <= 300 :\n",
    "    print( 'your electricity bill is :' , unit*10)\n",
    "else :\n",
    "    print(' your electricity bill is :' , unit*20)"
   ]
  },
  {
   "cell_type": "code",
   "execution_count": 20,
   "id": "9f3f04d1-4b4d-4263-84bf-d9a61c329f11",
   "metadata": {},
   "outputs": [
    {
     "name": "stdout",
     "output_type": "stream",
     "text": [
      "List of cubes of numbers from 1 to 100 divisible by 4 or 5 : [8, 64, 125, 216, 512, 1000, 1728, 2744, 3375, 4096, 5832, 8000, 10648, 13824, 15625, 17576, 21952, 27000, 32768, 39304, 42875, 46656, 54872, 64000, 74088, 85184, 91125, 97336, 110592, 125000, 140608, 157464, 166375, 175616, 195112, 216000, 238328, 262144, 274625, 287496, 314432, 343000, 373248, 405224, 421875, 438976, 474552, 512000, 551368, 592704, 614125, 636056, 681472, 729000, 778688, 830584, 857375, 884736, 941192, 1000000]\n"
     ]
    }
   ],
   "source": [
    "#Q4 Create a list of numbers from 1 to 100. Use for loop and while loop to calculate the cube of each\n",
    "#number and if the cube of that number is divisible by 4 or 5 then append that number in a list and print\n",
    "#that list.\n",
    "numbers = []\n",
    "for i in range(1,101) :\n",
    "    numbers.append(i)\n",
    "cubes = []\n",
    "for number in numbers :\n",
    "    cube = number**3\n",
    "    if cube % 4 ==0 or cube % 5 ==0 :\n",
    "        cubes.append(cube)\n",
    "\n",
    "print(\"List of cubes of numbers from 1 to 100 divisible by 4 or 5 :\", cubes)\n"
   ]
  },
  {
   "cell_type": "code",
   "execution_count": 21,
   "id": "68b402ee-ce3c-49cf-ad93-04b265ed15b0",
   "metadata": {},
   "outputs": [],
   "source": [
    "#Q5. Write a program to filter count vowels in the below-given string.\n",
    "#string = \"I want to become a data scientist\""
   ]
  },
  {
   "cell_type": "code",
   "execution_count": 22,
   "id": "da006586-b6bc-423b-825d-9997431b0cb0",
   "metadata": {},
   "outputs": [
    {
     "name": "stdout",
     "output_type": "stream",
     "text": [
      "Number of vowels in the given string: 12\n"
     ]
    }
   ],
   "source": [
    "s=\"I want to become a data scientist\"\n",
    "vowels = 'aeiouAEIOU'\n",
    "def is_vowel(char) :\n",
    "    return char in vowels\n",
    "vowel_count = len(list(filter(is_vowel, s)))\n",
    "print(\"Number of vowels in the given string:\", vowel_count)"
   ]
  },
  {
   "cell_type": "code",
   "execution_count": null,
   "id": "8db73ba3-03ac-4397-a0f7-36cd9ef04aa1",
   "metadata": {},
   "outputs": [],
   "source": []
  }
 ],
 "metadata": {
  "kernelspec": {
   "display_name": "Python 3 (ipykernel)",
   "language": "python",
   "name": "python3"
  },
  "language_info": {
   "codemirror_mode": {
    "name": "ipython",
    "version": 3
   },
   "file_extension": ".py",
   "mimetype": "text/x-python",
   "name": "python",
   "nbconvert_exporter": "python",
   "pygments_lexer": "ipython3",
   "version": "3.10.8"
  }
 },
 "nbformat": 4,
 "nbformat_minor": 5
}
